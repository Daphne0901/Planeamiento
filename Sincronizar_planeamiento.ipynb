{
  "nbformat": 4,
  "nbformat_minor": 0,
  "metadata": {
    "colab": {
      "provenance": []
    },
    "kernelspec": {
      "name": "python3",
      "display_name": "Python 3"
    },
    "language_info": {
      "name": "python"
    }
  },
  "cells": [
    {
      "cell_type": "markdown",
      "source": [
        "# Inicio: carga de archivos"
      ],
      "metadata": {
        "id": "SESh1lBw82x2"
      }
    },
    {
      "cell_type": "code",
      "source": [
        "from google.colab import drive\n",
        "drive.mount('/drive')"
      ],
      "metadata": {
        "colab": {
          "base_uri": "https://localhost:8080/"
        },
        "id": "hsqSiGup9yrI",
        "outputId": "edb770a0-02b1-443d-c48f-d9794ab27ae6"
      },
      "execution_count": null,
      "outputs": [
        {
          "output_type": "stream",
          "name": "stdout",
          "text": [
            "Mounted at /drive\n"
          ]
        }
      ]
    },
    {
      "cell_type": "markdown",
      "source": [
        "# Duplicando mi carpeta\n",
        "Link: https://drive.google.com/drive/folders/1M436-LMyU5LUKFvVhEu_S2ObmvB4DMP6?usp=sharing\n",
        "Añadir acceso directo a esa carpeta, como van a duplicar, deben hacerlo desde una cuenta de drive que tenga espacio"
      ],
      "metadata": {
        "id": "trFtVJBc8i40"
      }
    },
    {
      "cell_type": "code",
      "execution_count": null,
      "metadata": {
        "id": "qX4QxADy8frO",
        "colab": {
          "base_uri": "https://localhost:8080/"
        },
        "outputId": "bf452a9b-a031-44d7-fe4c-05213ee6c974"
      },
      "outputs": [
        {
          "output_type": "stream",
          "name": "stdout",
          "text": [
            "mkdir: cannot create directory ‘/drive/MyDrive/Planeamiento_territorial’: File exists\n"
          ]
        }
      ],
      "source": [
        "# Creamos una carpeta en el drive donde vamos a copiar las carpetas de las actividades prácticas\n",
        "!mkdir /drive/MyDrive/Planeamiento_territorial"
      ]
    },
    {
      "cell_type": "code",
      "source": [
        "!rsync -arv --chmod=Du=rwx,Fu=rwx '/drive/MyDrive/Planeamiento_archivos' '/drive/MyDrive/Planeamiento_territorial'"
      ],
      "metadata": {
        "colab": {
          "base_uri": "https://localhost:8080/"
        },
        "id": "hmnvY2Gx81qF",
        "outputId": "d230dfc1-36a9-4f8e-fdca-91f86aae9055"
      },
      "execution_count": null,
      "outputs": [
        {
          "output_type": "stream",
          "name": "stdout",
          "text": [
            "sending incremental file list\n",
            "Planeamiento_archivos/\n",
            "Planeamiento_archivos/Percentiles.xlsx\n",
            "Planeamiento_archivos/SHPCensoDepartamento INEI 2007 geogpsperu SuyoPomalia/\n",
            "Planeamiento_archivos/SHPCensoDepartamento INEI 2007 geogpsperu SuyoPomalia/SHPCensoDepartamento INEI 2007 geogpsperu SuyoPomalia.dbf\n",
            "Planeamiento_archivos/SHPCensoDepartamento INEI 2007 geogpsperu SuyoPomalia/SHPCensoDepartamento INEI 2007 geogpsperu SuyoPomalia.prj\n",
            "Planeamiento_archivos/SHPCensoDepartamento INEI 2007 geogpsperu SuyoPomalia/SHPCensoDepartamento INEI 2007 geogpsperu SuyoPomalia.qpj\n",
            "Planeamiento_archivos/SHPCensoDepartamento INEI 2007 geogpsperu SuyoPomalia/SHPCensoDepartamento INEI 2007 geogpsperu SuyoPomalia.shp\n",
            "Planeamiento_archivos/SHPCensoDepartamento INEI 2007 geogpsperu SuyoPomalia/SHPCensoDepartamento INEI 2007 geogpsperu SuyoPomalia.shx\n",
            "Planeamiento_archivos/Vulnerabilidad Fisica Cenepred GEOGPSPERU SuyoPomalia/\n",
            "Planeamiento_archivos/Vulnerabilidad Fisica Cenepred GEOGPSPERU SuyoPomalia/Vulnerabilidad Fisica Cenepred GEOGPSPERU SuyoPomalia.style\n",
            "Planeamiento_archivos/Vulnerabilidad Fisica Cenepred GEOGPSPERU SuyoPomalia/Vulnerabilidad Fisica Cenepred GEOGPSPERU SuyoPomalia.xml\n",
            "Planeamiento_archivos/Vulnerabilidad Fisica Cenepred GEOGPSPERU SuyoPomalia/vulnerabilidad_fisica_cenepred_geogpsperu_SuyoPomalia.cpg\n",
            "Planeamiento_archivos/Vulnerabilidad Fisica Cenepred GEOGPSPERU SuyoPomalia/vulnerabilidad_fisica_cenepred_geogpsperu_SuyoPomalia.dbf\n",
            "Planeamiento_archivos/Vulnerabilidad Fisica Cenepred GEOGPSPERU SuyoPomalia/vulnerabilidad_fisica_cenepred_geogpsperu_SuyoPomalia.prj\n",
            "Planeamiento_archivos/Vulnerabilidad Fisica Cenepred GEOGPSPERU SuyoPomalia/vulnerabilidad_fisica_cenepred_geogpsperu_SuyoPomalia.shp\n",
            "Planeamiento_archivos/Vulnerabilidad Fisica Cenepred GEOGPSPERU SuyoPomalia/vulnerabilidad_fisica_cenepred_geogpsperu_SuyoPomalia.shx\n",
            "Planeamiento_archivos/ne_10m_admin_1_states_provinces/\n",
            "Planeamiento_archivos/ne_10m_admin_1_states_provinces/ne_10m_admin_1_states_provinces.README.html\n",
            "Planeamiento_archivos/ne_10m_admin_1_states_provinces/ne_10m_admin_1_states_provinces.VERSION.txt\n",
            "Planeamiento_archivos/ne_10m_admin_1_states_provinces/ne_10m_admin_1_states_provinces.cpg\n",
            "Planeamiento_archivos/ne_10m_admin_1_states_provinces/ne_10m_admin_1_states_provinces.dbf\n",
            "Planeamiento_archivos/ne_10m_admin_1_states_provinces/ne_10m_admin_1_states_provinces.prj\n",
            "Planeamiento_archivos/ne_10m_admin_1_states_provinces/ne_10m_admin_1_states_provinces.shp\n",
            "Planeamiento_archivos/ne_10m_admin_1_states_provinces/ne_10m_admin_1_states_provinces.shx\n",
            "\n",
            "sent 284,697,394 bytes  received 428 bytes  16,268,446.97 bytes/sec\n",
            "total size is 284,626,129  speedup is 1.00\n"
          ]
        }
      ]
    }
  ]
}